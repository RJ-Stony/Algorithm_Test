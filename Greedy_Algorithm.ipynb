{
  "nbformat": 4,
  "nbformat_minor": 0,
  "metadata": {
    "colab": {
      "name": "Greedy Algorithm.ipynb",
      "provenance": [],
      "collapsed_sections": [],
      "authorship_tag": "ABX9TyNGTDmasKwu7t/Wb//h7Olr",
      "include_colab_link": true
    },
    "kernelspec": {
      "name": "python3",
      "display_name": "Python 3"
    },
    "language_info": {
      "name": "python"
    }
  },
  "cells": [
    {
      "cell_type": "markdown",
      "metadata": {
        "id": "view-in-github",
        "colab_type": "text"
      },
      "source": [
        "<a href=\"https://colab.research.google.com/github/Roh-2040/Algorithm_Test/blob/main/Greedy_Algorithm.ipynb\" target=\"_parent\"><img src=\"https://colab.research.google.com/assets/colab-badge.svg\" alt=\"Open In Colab\"/></a>"
      ]
    },
    {
      "cell_type": "markdown",
      "source": [
        "### ★ 문제 1 : 거스름돈 문제 \n",
        "- 당신은 음식점의 계산을 도와주는 점원이다. 카운터에는 거스름돈으로 사용할 500원, 100원, 50원, 10원짜리 동전이 무한히 존재한다고 가정한다. 손님에게 거슬러 줘야 할 돈이 N원일 때 거슬러줘야 할 동전의 최소 개수를 구하라. 단, 거슬러 줘야 할 돈 N은 항상 10의 배수이다."
      ],
      "metadata": {
        "id": "BVPPyfR1wR-D"
      }
    },
    {
      "cell_type": "markdown",
      "source": [
        "#### 접근 1\n",
        "- 가지고 있는 동전 중에서 큰 단위가 항상 작은 단위의 배수이므로 그리디 알고리즘으로 해결할 수 있다."
      ],
      "metadata": {
        "id": "BHbW_KDgBUEk"
      }
    },
    {
      "cell_type": "code",
      "source": [
        "n = 1890\n",
        "count = 0\n",
        "\n",
        "# 큰 단위의 화폐부터 차례대로 확인\n",
        "coin_types = [500, 100, 50, 10]\n",
        "\n",
        "for coin in coin_types:\n",
        "  count += n // coin  # 해당 화폐로 거슬러 줄 수 있는 동전의 개수 세기\n",
        "  n %= coin\n",
        "\n",
        "print(count)"
      ],
      "metadata": {
        "colab": {
          "base_uri": "https://localhost:8080/"
        },
        "id": "jaIBYyNEyGbi",
        "outputId": "a1a3a4a9-7a06-4fef-dc50-ef77759a8dd7"
      },
      "execution_count": null,
      "outputs": [
        {
          "output_type": "stream",
          "name": "stdout",
          "text": [
            "11\n"
          ]
        }
      ]
    },
    {
      "cell_type": "markdown",
      "source": [
        "### ★ 문제 2 : 큰 수의 법칙\n",
        "- '큰 수의 법칙'은 일반적으로 통계 분야에서 다루어지는 내용이지만 준석이는 본인만의 방식으로 다르게 사용하고 있다. 준석이의 큰 수의 법칙은 다양한 수로 이루어진 배열이 있을 때 주어진 수들을 M번 더하여 가장 큰 수를 만드는 법칙이다. 단, 배열의 특정한 인덱스(번호)에 해당하는 수가 연속해서 K번을 초과하여 더해질 수 없는 것이 이 법칙의 특성이다.\n",
        "\n",
        "- 예를 들어 순서대로 2, 4, 5, 4, 6으로 이루어진 배열이 있을 때 M이 8이고, K가 3이라고 가정하자. 이 경우 특정한 인덱스의 수가 연속해서 세 번까지만 더해질 수 있으므로 큰 수의 법칙에 따른 결과는 6 + 6 + 6 + 5 + 6 + 6 + 6 + 5인 46이 된다.\n",
        "\n",
        "- 단, 서로 다른 인덱스에 해당하는 수가 같은 경우에도 서로 다른 것으로 간주한다. 예를 들어 순서대로 3, 4, 3, 4, 3으로 이루어진 배열이 있을 때 M이 7이고, K가 2라고 가정하자. 이 경우 두 번째 원소에 해당하는 4와 네 번째 원소에 해당하는 4를 번갈아 두 번씩 더하는 것이 가능하다. 결과적으로 4 + 4 + 4 + 4 + 4 + 4 + 4인 28이 도출된다.\n",
        "\n",
        "- 배열의 크기 N, 숫자가 더해지는 횟수 M, 그리고 K가 주어질 때 준석이의 큰 수의 법칙에 따른 결과를 출력하시오.\n",
        "\n",
        "<br>\n"
      ],
      "metadata": {
        "id": "2q480p2VywTR"
      }
    },
    {
      "cell_type": "markdown",
      "source": [
        "---\n",
        "\n",
        "\n",
        "<br>\n",
        "\n",
        "\n",
        "\n",
        "**입력 조건**\n",
        "- 첫째 줄에 N(2 ≤ N ≤ 1,000), M(1 ≤ M ≤ 10,000), K(1 ≤ K ≤ 10,000)의 자연수가 주어지며, 각 자연수는 공백으로 구분한다.\n",
        "- 둘째 줄에 N개의 자연수가 주어진다. 각 자연수는 공백으로 구분한다. 단, 각각의 자연수는 1 이상 10,000 이하의 수로 주어진다.\n",
        "- 입력으로 주어지는 K는 항상 M보다 작거나 같다.\n",
        "\n",
        "<br>\n",
        "\n",
        "**출력 조건**\n",
        "- 첫째 줄에 동빈이의 큰 수의 법칙에 따라 더해진 답을 출력한다.\n",
        "\n",
        "<br>\n",
        "\n",
        "**입력 예시**\n",
        "```\n",
        "5 8 3\n",
        "2 4 5 4 6\n",
        "```\n",
        "\n",
        "<br>\n",
        "\n",
        "**출력 예시**\n",
        "```\n",
        "46\n",
        "```\n",
        "\n"
      ],
      "metadata": {
        "id": "HJSL1qMPy7hr"
      }
    },
    {
      "cell_type": "markdown",
      "source": [
        "#### 접근 1\n",
        "- 가장 큰 수를 K번 더하고 두 번째로 큰 수를 한 번 더하는 연산을 반복하여 문제 해결"
      ],
      "metadata": {
        "id": "dZpALYgVBZJh"
      }
    },
    {
      "cell_type": "code",
      "source": [
        "# N, M, K를 공백으로 구분하여 입력받기\n",
        "n, m, k = map(int, input().split())\n",
        "# N개의 수를 공백으로 구분하여 입력받기\n",
        "num_list = list(map(int, input().split()))\n",
        "\n",
        "num_list.sort() # 입력받은 수들 정렬하기\n",
        "\n",
        "first = num_list[n - 1] # 가장 큰 수\n",
        "second = num_list[n - 2]  # 두 번째로 큰 수\n",
        "\n",
        "result = 0\n",
        "\n",
        "while True:\n",
        "  for _ in range(k):  # 가장 큰 수를 K번 더하기\n",
        "    if m == 0:  # m이 0이라면 반복문 탈출\n",
        "      break\n",
        "    result += first\n",
        "    m -= 1  # 더할 때마다 1씩 빼기\n",
        "  if m == 0:  # m이 0이라면 반복문 탈출\n",
        "    break\n",
        "  result += second  # 두 번째로 큰 수를 한 번 더하기\n",
        "  m -= 1  # 더할 때마다 1씩 빼기\n",
        "\n",
        "print(result) # 최종 답안 출력"
      ],
      "metadata": {
        "colab": {
          "base_uri": "https://localhost:8080/"
        },
        "id": "9EAbDIAy1XJO",
        "outputId": "f2b8006a-7aaa-4eb5-a56a-560d190b1879"
      },
      "execution_count": null,
      "outputs": [
        {
          "output_type": "stream",
          "name": "stdout",
          "text": [
            "5 7 2\n",
            "3 4 3 4 3\n",
            "28\n"
          ]
        }
      ]
    },
    {
      "cell_type": "markdown",
      "source": [
        "#### 접근 2\n",
        "- 반복되는 수열에 대한 파악이 중요하다.\n",
        "- (M / (K + 1) : 수열이 반복되는 횟수\n",
        "- (M / (K + 1)) * K : 가장 큰 수가 등장하는 횟수\n",
        "- M이 (K + 1)로 나누어떨어지지 않는 경우는 M을 (K + 1)로 나눈 나머지만큼 가장 큰 수가 추가로 더해진다.\n",
        "\n",
        "<br>\n",
        "\n",
        "- 그리디 알고리즘으로 해결!"
      ],
      "metadata": {
        "id": "KJ68M0KVBbNr"
      }
    },
    {
      "cell_type": "code",
      "source": [
        "# N, M, K를 공백으로 구분하여 입력받기\n",
        "n, m, k =  map(int, input().split())\n",
        "# N개의 수를 공백으로 구분하여 입력받기\n",
        "num_list = list(map(int, input().split()))\n",
        "\n",
        "num_list.sort() # 입력받은 수 정렬\n",
        "first = num_list[n - 1] # 가장 큰 수\n",
        "second = num_list[n - 2]  # 두 번째로 큰 수\n",
        "\n",
        "# 가장 큰 수가 더해지는 횟수 계산\n",
        "count = int(m / (k + 1)) * k\n",
        "count += m % (k + 1)\n",
        "\n",
        "result = 0\n",
        "result += (count) * first # 가장 큰 수 더하기\n",
        "result += (m - count) * second  # 두 번째로 큰 수 더하기\n",
        "\n",
        "print(result) # 최종 답안 출력"
      ],
      "metadata": {
        "colab": {
          "base_uri": "https://localhost:8080/"
        },
        "id": "nIIf-Z17_1XS",
        "outputId": "d50b42ce-695e-4f08-c65b-5f36d441f3f9"
      },
      "execution_count": null,
      "outputs": [
        {
          "output_type": "stream",
          "name": "stdout",
          "text": [
            "5 8 3\n",
            "2 4 5 4 6\n",
            "46\n"
          ]
        }
      ]
    },
    {
      "cell_type": "markdown",
      "source": [
        "### ★ 문제 3 : 숫자 카드 게임\n",
        "- 숫자 카드 게임은 여러 개의 숫자 카드 중에서 가장 높은 숫자가 쓰인 카드 한 장을 뽑는 게임이다. 단, 게임의 룰을 지키며 카드를 뽑아야 하고 룰은 다음과 같다.\n",
        "\n",
        "<br>\n",
        "\n",
        "> 1. 숫자가 쓰인 카드들이 N x M 형태로 놓여 있다. 이때 N은 행의 개수를 의미하며, M은 열의 개수를 의미한다.\n",
        "> 2. 먼저 뽑고자 하는 카드가 포함되어 있는 행을 선택한다.\n",
        "> 3. 그 다음 선택된 행에 포함된 카드들 중 가장 숫자가 낮은 카드를 뽑아야 한다.\n",
        "> 4. 따라서 처음에 카드를 골라낼 행을 선택할 때, 이후에 해당 행에서 가장 숫자가 낮은 카드를 뽑을 것을 고려하여 최종적으로 가장 높은 숫자의 카드를 뽑을 수 있도록 전략을 세워야 한다.\n",
        "\n",
        "<br>\n",
        "\n",
        "- 카드들이 N x M 형태로 놓여 있을 때, 게임의 룰에 맞게 카드를 뽑는 프로그램을 만드시오.\n",
        "\n",
        "<br>"
      ],
      "metadata": {
        "id": "gR5s_PYOBD6x"
      }
    },
    {
      "cell_type": "markdown",
      "source": [
        "---\n",
        "\n",
        "\n",
        "<br>\n",
        "\n",
        "\n",
        "\n",
        "**입력 조건**\n",
        "- 첫째 줄에 숫자 카드들이 놓인 행의 개수 N과 열의 개수 M이 공백을 기준으로 하여 각각 자연수로 주어진다. (1 ≤ N, M ≤ 100)\n",
        "- 둘째 줄부터 N개의 줄에 걸쳐 각 카드에 적힌 숫자가 주어진다. 각 숫자는 1 이상 10,000 이하의 자연수이다.\n",
        "\n",
        "<br>\n",
        "\n",
        "**출력 조건**\n",
        "- 첫째 줄에 게임의 룰에 맞게 선택한 카드에 적힌 숫자를 출력한다.\n",
        "\n",
        "<br>\n",
        "\n",
        "**입력 예시 1**\n",
        "```\n",
        "3 3\n",
        "3 1 2\n",
        "4 1 4\n",
        "2 2 2\n",
        "```\n",
        "\n",
        "<br>\n",
        "\n",
        "**출력 예시 1**\n",
        "```\n",
        "2\n",
        "```\n",
        "\n",
        "<br>\n",
        "\n",
        "**입력 예시 2**\n",
        "```\n",
        "2 4\n",
        "7 3 1 8\n",
        "3 3 3 4\n",
        "```\n",
        "\n",
        "<br>\n",
        "\n",
        "**출력 예시 2**\n",
        "```\n",
        "3\n",
        "```"
      ],
      "metadata": {
        "id": "BaGx23UCD23f"
      }
    },
    {
      "cell_type": "markdown",
      "source": [
        "#### 접근 1\n",
        "- 각 행마다 가장 작은 수를 찾은 뒤에 그 수 중에서 가장 큰 수를 찾는 방법"
      ],
      "metadata": {
        "id": "eUvUps43El72"
      }
    },
    {
      "cell_type": "code",
      "source": [
        "# N, M을 공백으로 구분하여 입력받기\n",
        "n, m = map(int, input().split())\n",
        "\n",
        "max_value = 0\n",
        "\n",
        "# 한 줄씩 입력받아 확인\n",
        "for _ in range(n):\n",
        "  card_list = list(map(int, input().split()))\n",
        "  # 현재 줄에서 '가장 작은 수' 찾기\n",
        "  min_value = min(card_list)\n",
        "  # '가장 작은 수들 중에서 가장 큰 수 찾기\n",
        "  max_value = max(max_value, min_value)\n",
        "\n",
        "print(max_value)  # 최종 답안 출력"
      ],
      "metadata": {
        "colab": {
          "base_uri": "https://localhost:8080/"
        },
        "id": "6Uf2JgVxHUC0",
        "outputId": "a716e98d-7b05-41e3-c738-5d6998cd3f2b"
      },
      "execution_count": null,
      "outputs": [
        {
          "output_type": "stream",
          "name": "stdout",
          "text": [
            "2 4 \n",
            "7 3 1 8\n",
            "3 3 3 4\n",
            "3\n"
          ]
        }
      ]
    },
    {
      "cell_type": "markdown",
      "source": [
        "#### 접근 2\n",
        "- 2중 반복문을 이용한 풀이 방법"
      ],
      "metadata": {
        "id": "AomWlBYhI9IU"
      }
    },
    {
      "cell_type": "code",
      "source": [
        "# N, M을 공백으로 구분하여 입력받기\n",
        "n, m = map(int, input().split())\n",
        "\n",
        "max_value = 0\n",
        "\n",
        "# 한 줄씩 입력받아 확인\n",
        "for _ in range(n):\n",
        "  card_list = list(map(int, input().split()))\n",
        "  # 현재 줄에서 '가장 작은 수' 찾기\n",
        "  min_value = 10000 + 1\n",
        "  for card in card_list:\n",
        "    min_value = min(min_value, card)\n",
        "\n",
        "  # '가장 작은 수들 중에서 가장 큰 수 찾기\n",
        "  max_value = max(max_value, min_value)\n",
        "\n",
        "print(max_value)  # 최종 답안 출력"
      ],
      "metadata": {
        "colab": {
          "base_uri": "https://localhost:8080/"
        },
        "id": "H8syc_MKJi8D",
        "outputId": "3e2384c7-bbd1-42f4-b489-20004a5451f7"
      },
      "execution_count": null,
      "outputs": [
        {
          "output_type": "stream",
          "name": "stdout",
          "text": [
            "3 3\n",
            "3 1 2\n",
            "4 1 4\n",
            "2 2 2\n",
            "2\n"
          ]
        }
      ]
    },
    {
      "cell_type": "markdown",
      "source": [
        "### ★ 문제 4 : 1이 될 때까지\n",
        "- 어떠한 수 N이 1이 될 때까지 다음의 두 과정 중 하나를 반복적으로 선택하여 수행하려고 한다. 단, 두 번째 연산은 N이 K로 나누어떨어질 때만 선택할 수 있다.\n",
        "\n",
        "<br>\n",
        "\n",
        "> 1. N에서 1을 뺀다.\n",
        "> 2. N을 K로 나눈다.\n",
        "\n",
        "<br>\n",
        "\n",
        "- 예를 들어 N이 17, K가 4라고 가정하자. 이때 1번의 과정을 한 번 수행하면 N은 16이 된다. 이후에 2번의 과정을 두 번 수행하면 N은 1이 된다. 결과적으로 이 경우 전체 과정을 실행한 횟수는 3이 된다. 이는 N을 1로 만드는 최소 횟수이다.\n",
        "- N과 K가 주어질 때 N이 1이 될 때까지 1번 혹은 2번의 과정을 수행해야 하는 최소 횟수를 구하는 프로그램을 작성하시오.\n",
        "\n",
        "<br>"
      ],
      "metadata": {
        "id": "fK1byM4IKVBw"
      }
    },
    {
      "cell_type": "markdown",
      "source": [
        "---\n",
        "\n",
        "\n",
        "<br>\n",
        "\n",
        "\n",
        "\n",
        "**입력 조건**\n",
        "- 첫째 줄에 N(2 ≤ N ≤ 100,000)과 K(2 ≤ K ≤ 100,000)가 공백으로 구분되며 각각 자연수로 주어진다. 이때 입력으로 주어지는 N은 항상 K보다 크거나 같다.\n",
        "\n",
        "<br>\n",
        "\n",
        "**출력 조건**\n",
        "- 첫째 줄에 N이 1이 될 때까지 1번 혹은 2번의 과정을 수행해야 하는 횟수의 최솟값을 출력한다.\n",
        "\n",
        "<br>\n",
        "\n",
        "**입력 예시**\n",
        "```\n",
        "25 5\n",
        "```\n",
        "\n",
        "<br>\n",
        "\n",
        "**출력 예시**\n",
        "```\n",
        "2\n",
        "```"
      ],
      "metadata": {
        "id": "qJSuMsyLK3On"
      }
    },
    {
      "cell_type": "markdown",
      "source": [
        "#### 접근 1\n",
        "- 최대한 많이 나누는 것이 중요하다."
      ],
      "metadata": {
        "id": "qDWutpfIMW1d"
      }
    },
    {
      "cell_type": "code",
      "source": [
        "# N, K를 공백으로 구분하여 입력받기\n",
        "n, k = map(int, input().split())\n",
        "\n",
        "result = 0\n",
        "\n",
        "while n != 1:\n",
        "  # N이 K로 나누어 떨어지지 않는다면 N에서 1씩 빼기\n",
        "  if n % k != 0:\n",
        "    n -= 1\n",
        "    result += 1\n",
        "  # 나누어 떨어지면 K로 나누기\n",
        "  else:\n",
        "    n //= k\n",
        "    result += 1\n",
        "\n",
        "print(result) # 최종 답안 출력"
      ],
      "metadata": {
        "colab": {
          "base_uri": "https://localhost:8080/"
        },
        "id": "FSniBjm7McHL",
        "outputId": "e090d5d1-79e2-4e2a-ab79-ba1a51b738fe"
      },
      "execution_count": null,
      "outputs": [
        {
          "output_type": "stream",
          "name": "stdout",
          "text": [
            "25 3\n",
            "6\n"
          ]
        }
      ]
    },
    {
      "cell_type": "markdown",
      "source": [
        "#### 접근 1(보완)"
      ],
      "metadata": {
        "id": "iygsKAK3Ok4_"
      }
    },
    {
      "cell_type": "code",
      "source": [
        "# N, K를 공백으로 구분하여 입력받기\n",
        "n, k = map(int, input().split())\n",
        "\n",
        "result = 0\n",
        "\n",
        "# N이 K 이상이라면 K로 계속 나누기\n",
        "while n >= k:\n",
        "  # N이 K로 나누어 떨어지지 않는다면 N에서 1씩 빼기\n",
        "  while n % k != 0:\n",
        "    n -= 1\n",
        "    result += 1\n",
        "  # K로 나누기\n",
        "  n //= k\n",
        "  result += 1\n",
        "\n",
        "# 마지막으로 남은 수에 대하여 1씩 빼기\n",
        "while n > 1:\n",
        "  n -= 1\n",
        "  result += 1  \n",
        "\n",
        "print(result) # 최종 답안 출력"
      ],
      "metadata": {
        "id": "flPPSwfSPVRA"
      },
      "execution_count": null,
      "outputs": []
    },
    {
      "cell_type": "markdown",
      "source": [
        "#### 접근 2\n",
        "- N이 K의 배수가 되도록 효율적으로 한 번에 빼는 방법"
      ],
      "metadata": {
        "id": "koEPTX7kPq02"
      }
    },
    {
      "cell_type": "code",
      "source": [
        "# N, K를 공백으로 구분하여 입력받기\n",
        "n, k = map(int, input().split())\n",
        "\n",
        "result = 0\n",
        "\n",
        "while True:\n",
        "  # (N == K로 나누어 떨어지는 수)가 될 때까지 1씩 빼기\n",
        "  target = (n // k) * k\n",
        "  result += (n - target)\n",
        "  n = target\n",
        "  # N이 K보다 작을 때(더 이상 나눌 수 없을 때) 반복문 탈출\n",
        "  if n < k:\n",
        "    break\n",
        "  # K로 나누기\n",
        "  result += 1\n",
        "  n //= k\n",
        "\n",
        "# 마지막으로 남은 수에 대하여 1씩 빼기\n",
        "result += (n - 1) \n",
        "\n",
        "print(result) # 최종 답안 출력"
      ],
      "metadata": {
        "colab": {
          "base_uri": "https://localhost:8080/"
        },
        "id": "uL0pgsJGPy-E",
        "outputId": "8062ac82-b050-47d3-8364-730e95354bc5"
      },
      "execution_count": null,
      "outputs": [
        {
          "output_type": "stream",
          "name": "stdout",
          "text": [
            "25 6\n",
            "5\n"
          ]
        }
      ]
    },
    {
      "cell_type": "markdown",
      "source": [
        "### ★★ 문제 5 : 설탕 배달\n",
        "- 준석이는 요즘 설탕 공장에서 설탕을 배달하고 있다. 준석이는 지금 사탕 가게에 설탕을 정확하게 N 킬로그램을 배달해야 한다. 설탕 공장에서 만드는 설탕은 봉지에 담겨져 있다. 봉지는 3 킬로그램 봉지와 5 킬로그램 봉지가 있다.\n",
        "\n",
        "- 준석이는 귀찮기 때문에, 최대한 적은 봉지를 들고 가려고 한다. 예를 들어, 18 킬로그램 설탕을 배달해야 할 때, 3 킬로그램 봉지 6개를 가져가도 되지만, 5 킬로그램 3개와 3 킬로그램 1개를 배달하면, 더 적은 개수의 봉지를 배달할 수 있다.\n",
        "\n",
        "- 준석이가 설탕을 정확하게 N 킬로그램 배달해야 할 때, 봉지 몇 개를 가져가면 되는지 그 수를 구하는 프로그램을 작성하시오.\n",
        "\n",
        "<br>"
      ],
      "metadata": {
        "id": "wM2mCyYbP5EE"
      }
    },
    {
      "cell_type": "markdown",
      "source": [
        "---\n",
        "\n",
        "\n",
        "<br>\n",
        "\n",
        "\n",
        "\n",
        "**입력 조건**\n",
        "- 첫째 줄에 N이 주어진다. (3 ≤ N ≤ 5000)\n",
        "\n",
        "<br>\n",
        "\n",
        "**출력 조건**\n",
        "- 준석이가 배달하는 봉지의 최소 개수를 출력한다. 만약, 정확하게 N 킬로그램을 만들 수 없다면 -1을 출력한다.\n",
        "\n",
        "<br>\n",
        "\n",
        "**입력 & 출력 예시 1**\n",
        "```\n",
        "입력 : 18\n",
        "출력 : 4\n",
        "```\n",
        "\n",
        "<br>\n",
        "\n",
        "**입력 & 출력 예시 2**\n",
        "```\n",
        "입력 : 4\n",
        "출력 : -1\n",
        "```\n",
        "\n",
        "<br>\n",
        "\n",
        "**입력 & 출력 예시 3**\n",
        "```\n",
        "입력 : 11\n",
        "출력 : 3\n",
        "```\n",
        "\n",
        "<br>\n",
        "\n",
        "**입력 & 출력 예시 4**\n",
        "```\n",
        "입력 : 6\n",
        "출력 : 2\n",
        "```"
      ],
      "metadata": {
        "id": "sq8Xi_PgWab0"
      }
    },
    {
      "cell_type": "markdown",
      "source": [
        "#### 접근 1\n",
        "- 가장 큰 단위부터 나누어주는 것이 중요!\n",
        "- 5의 배수가 아닐 때에는 5의 배수가 될 때까지 3을 빼고 봉지의 개수는 1을 더하는 방법"
      ],
      "metadata": {
        "id": "nwhlz3FNgYFH"
      }
    },
    {
      "cell_type": "code",
      "source": [
        "n = int(input())\n",
        "count = 0\n",
        "\n",
        "while n >= 0:\n",
        "  if n % 5 == 0:  # 5 킬로그램 단위부터 나누어주는 것이 좋음\n",
        "    count += n // 5 # 해당 봉지의 개수 세기\n",
        "    print(count)  # 최종 답안 출력\n",
        "    break\n",
        "  n -= 3  # 5의 배수가 될 때까지 3을 빼기\n",
        "  count += 1  # 3 킬로그램 봉지 개수 더하기\n",
        "\n",
        "else:\n",
        "  print(-1) # 최종 답안 출력"
      ],
      "metadata": {
        "colab": {
          "base_uri": "https://localhost:8080/"
        },
        "id": "vVP-g5cWWu35",
        "outputId": "ea635d16-e41d-41c7-c1f6-e8b8bf374c0e"
      },
      "execution_count": null,
      "outputs": [
        {
          "output_type": "stream",
          "name": "stdout",
          "text": [
            "18\n",
            "4\n"
          ]
        }
      ]
    },
    {
      "cell_type": "markdown",
      "source": [
        "### ★ 문제 6 : ATM\n",
        "- 광운 은행에는 ATM이 1대 밖에 없다. 지금 이 ATM 앞에 N명의 사람들이 줄을 서있다. 사람은 1번부터 N번까지 번호가 매겨져 있으며, i번 사람이 돈을 인출하는데 걸리는 시간은 Pi분이다.\n",
        "\n",
        "- 사람들이 줄을 서는 순서에 따라서, 돈을 인출하는데 필요한 시간의 합이 달라지게 된다. 예를 들어, 총 5명이 있고, P1 = 3, P2 = 1, P3 = 4, P4 = 3, P5 = 2 인 경우를 생각해보자. [1, 2, 3, 4, 5] 순서로 줄을 선다면, 1번 사람은 3분만에 돈을 뽑을 수 있다. 2번 사람은 1번 사람이 돈을 뽑을 때 까지 기다려야 하기 때문에, 3 + 1 = 4분이 걸리게 된다. 3번 사람은 1번, 2번 사람이 돈을 뽑을 때까지 기다려야 하기 때문에, 총 3 + 1 + 4 = 8분이 필요하게 된다. 4번 사람은 3 + 1 + 4 + 3 = 11분, 5번 사람은 3 + 1 + 4 + 3 + 2 = 13분이 걸리게 된다. 이 경우에 각 사람이 돈을 인출하는데 필요한 시간의 합은 3 + 4 + 8 + 11 + 13 = 39분이 된다.\n",
        "\n",
        "- 줄을 [2, 5, 1, 4, 3] 순서로 줄을 서면, 2번 사람은 1분만에, 5번 사람은 1 + 2 = 3분, 1번 사람은 1 + 2 + 3 = 6분, 4번 사람은 1 + 2 + 3 + 3 = 9분, 3번 사람은 1 + 2 + 3 + 3 + 4 = 13분이 걸리게 된다. 각 사람이 돈을 인출하는데 필요한 시간의 합은 1 + 3 + 6 + 9 + 13 = 32분이다. 이 방법보다 더 필요한 시간의 합을 최소로 만들 수는 없다.\n",
        "\n",
        "- 줄을 서 있는 사람의 수 N과 각 사람이 돈을 인출하는데 걸리는 시간 Pi가 주어졌을 때, 각 사람이 돈을 인출하는데 필요한 시간의 합의 최솟값을 구하는 프로그램을 작성하시오."
      ],
      "metadata": {
        "id": "k8VeWLQPh_rW"
      }
    },
    {
      "cell_type": "markdown",
      "source": [
        "---\n",
        "\n",
        "\n",
        "<br>\n",
        "\n",
        "\n",
        "\n",
        "**입력 조건**\n",
        "- 첫째 줄에 사람의 수 N(1 ≤ N ≤ 1,000)이 주어진다. 둘째 줄에는 각 사람이 돈을 인출하는데 걸리는 시간 Pi가 주어진다. (1 ≤ Pi ≤ 1,000)\n",
        "\n",
        "<br>\n",
        "\n",
        "**출력 조건**\n",
        "- 첫째 줄에 각 사람이 돈을 인출하는데 필요한 시간의 합의 최솟값을 출력한다.\n",
        "\n",
        "<br>\n",
        "\n",
        "**입력 예시**\n",
        "```\n",
        "5\n",
        "3 1 4 3 2\n",
        "```\n",
        "\n",
        "<br>\n",
        "\n",
        "**출력 예시**\n",
        "```\n",
        "32\n",
        "```"
      ],
      "metadata": {
        "id": "ildU9VHkjLLl"
      }
    },
    {
      "cell_type": "markdown",
      "source": [
        "#### 접근 1\n",
        "- 각 사람이 돈을 인출하는데 필요한 시간의 합의 최소는 결국 오름차순 정렬 후의 덧셈\n",
        "- 정렬 후 순차적으로 더해주는 방법 필요"
      ],
      "metadata": {
        "id": "XH4UCQWojZMi"
      }
    },
    {
      "cell_type": "code",
      "source": [
        "n = int(input())\n",
        "# Pi를 공백으로 구분하여 입력받기\n",
        "p_list = list(map(int, input().split()))\n",
        "\n",
        "# 오름차순으로 정렬하기\n",
        "p_list.sort()\n",
        "\n",
        "result = 0\n",
        "\n",
        "for i in range(len(p_list)):\n",
        "  if i == 0:\n",
        "    result += p_list[i]\n",
        "  else:\n",
        "    p_list[i] = p_list[i - 1] + p_list[i] # i가 증가할 때마다 순차적으로 더하기\n",
        "    result += p_list[i]\n",
        "\n",
        "print(result) # 최종 답안 출력"
      ],
      "metadata": {
        "id": "2RWiHydtjhn9",
        "colab": {
          "base_uri": "https://localhost:8080/"
        },
        "outputId": "35b44ddc-5b8e-4958-cbf7-855483162b4d"
      },
      "execution_count": null,
      "outputs": [
        {
          "output_type": "stream",
          "name": "stdout",
          "text": [
            "5\n",
            "3 1 4 3 2\n",
            "32\n"
          ]
        }
      ]
    },
    {
      "cell_type": "markdown",
      "source": [
        "### ★ 문제 7 : 동전 0\n",
        "- 준석이가 가지고 있는 동전은 총 N종류이고, 각각의 동전을 매우 많이 가지고 있다.\n",
        "\n",
        "- 동전을 적절히 사용해서 그 가치의 합을 K로 만들려고 한다. 이때 필요한 동전 개수의 최솟값을 구하는 프로그램을 작성하시오."
      ],
      "metadata": {
        "id": "AmdidvTSsFN4"
      }
    },
    {
      "cell_type": "markdown",
      "source": [
        "---\n",
        "\n",
        "\n",
        "<br>\n",
        "\n",
        "\n",
        "\n",
        "**입력 조건**\n",
        "- 첫째 줄에 N과 K가 주어진다. (1 ≤ N ≤ 10, 1 ≤ K ≤ 100,000,000)\n",
        "\n",
        "- 둘째 줄부터 N개의 줄에 동전의 가치 Ai가 오름차순으로 주어진다. (1 ≤ Ai ≤ 1,000,000, A1 = 1, i ≥ 2인 경우에 Ai는 Ai-1의 배수)\n",
        "\n",
        "<br>\n",
        "\n",
        "**출력 조건**\n",
        "- 첫째 줄에 K원을 만드는 데 필요한 동전 개수의 최솟값을 출력한다.\n",
        "\n",
        "<br>\n",
        "\n",
        "**입력 예시 1**\n",
        "```\n",
        "10 4200\n",
        "1\n",
        "5\n",
        "10\n",
        "50\n",
        "100\n",
        "500\n",
        "1000\n",
        "5000\n",
        "10000\n",
        "50000\n",
        "```\n",
        "\n",
        "<br>\n",
        "\n",
        "**출력 예시 1**\n",
        "```\n",
        "6\n",
        "```\n",
        "\n",
        "<br>\n",
        "\n",
        "**입력 예시 2**\n",
        "```\n",
        "10 4790\n",
        "1\n",
        "5\n",
        "10\n",
        "50\n",
        "100\n",
        "500\n",
        "1000\n",
        "5000\n",
        "10000\n",
        "50000\n",
        "```\n",
        "\n",
        "<br>\n",
        "\n",
        "**출력 예시 2**\n",
        "```\n",
        "12\n",
        "```"
      ],
      "metadata": {
        "id": "plAdtWHysRn-"
      }
    },
    {
      "cell_type": "markdown",
      "source": [
        "#### 접근 1\n",
        "- 큰 단위부터 차례대로 나눠주는 방법\n",
        "- 거스름돈 문제와 유사"
      ],
      "metadata": {
        "id": "BigxKT7dut4I"
      }
    },
    {
      "cell_type": "code",
      "source": [
        "# N, K를 공백으로 구분하여 입력받기\n",
        "n, k = map(int, input().split())\n",
        "\n",
        "coin_types = []\n",
        "result = 0\n",
        "\n",
        "for _ in range(n):\n",
        "  coin = int(input())\n",
        "  coin_types.append(coin)\n",
        "\n",
        "# 큰 단위의 화폐부터 차례대로 확인하기 위해 내림차순 정렬\n",
        "coin_types.sort(reverse=True)\n",
        "\n",
        "for coin in coin_types:\n",
        "  result += k // coin # 해당 화폐로 거슬러 줄 수 있는 동전의 개수 세기\n",
        "  k %= coin\n",
        "\n",
        "print(result)"
      ],
      "metadata": {
        "colab": {
          "base_uri": "https://localhost:8080/"
        },
        "id": "ncpOk83asqBl",
        "outputId": "dfc2498d-a441-44a3-8cbc-edafbd444f31"
      },
      "execution_count": null,
      "outputs": [
        {
          "output_type": "stream",
          "name": "stdout",
          "text": [
            "10 4790\n",
            "1\n",
            "5\n",
            "10\n",
            "50\n",
            "100\n",
            "500\n",
            "1000\n",
            "5000\n",
            "10000\n",
            "50000\n",
            "12\n"
          ]
        }
      ]
    },
    {
      "cell_type": "markdown",
      "source": [
        "### ★★★ 문제 8 : 회의실 배정\n",
        "- 한 개의 회의실이 있는데 이를 사용하고자 하는 N개의 회의에 대하여 회의실 사용표를 만들려고 한다. 각 회의 I에 대해 시작시간과 끝나는 시간이 주어져 있고, 각 회의가 겹치지 않게 하면서 회의실을 사용할 수 있는 회의의 최대 개수를 찾아보자.\n",
        "\n",
        "- 단, 회의는 한번 시작하면 중간에 중단될 수 없으며 한 회의가 끝나는 것과 동시에 다음 회의가 시작될 수 있다. 회의의 시작시간과 끝나는 시간이 같을 수도 있다. 이 경우에는 시작하자마자 끝나는 것으로 생각하면 된다.\n",
        "\n"
      ],
      "metadata": {
        "id": "G0bF5LBuuJwk"
      }
    },
    {
      "cell_type": "markdown",
      "source": [
        "---\n",
        "\n",
        "\n",
        "<br>\n",
        "\n",
        "\n",
        "\n",
        "**입력 조건**\n",
        "- 첫째 줄에 회의의 수 N(1 ≤ N ≤ 100,000)이 주어진다. 둘째 줄부터 N + 1 줄까지 각 회의의 정보가 주어지는데 이것은 공백을 사이에 두고 회의의 시작 시간과 끝나는 시간이 주어진다. 시작 시간과 끝나는 시간은 2^31 - 1보다 작거나 같은 자연수 또는 0이다.\n",
        "\n",
        "<br>\n",
        "\n",
        "**출력 조건**\n",
        "- 첫째 줄에 최대 사용할 수 있는 회의의 최대 개수를 출력한다.\n",
        "\n",
        "<br>\n",
        "\n",
        "**입력 예시**\n",
        "```\n",
        "11\n",
        "1 4\n",
        "3 5\n",
        "0 6\n",
        "5 7\n",
        "3 8\n",
        "5 9\n",
        "6 10\n",
        "8 11\n",
        "8 12\n",
        "2 13\n",
        "12 14\n",
        "```\n",
        "\n",
        "<br>\n",
        "\n",
        "**출력 예시**\n",
        "```\n",
        "4\n",
        "```"
      ],
      "metadata": {
        "id": "NOuDads9wlCX"
      }
    },
    {
      "cell_type": "markdown",
      "source": [
        "#### 접근 1\n",
        "- 빠르게 끝나는 회의일수록 더 많은 회의가 진행될 수 있음을 활용\n",
        "- 시작 시간이 끝나는 시간과 최대한 가까이 있어야 하므로 시작 시간이 빠른 순서대로 정렬"
      ],
      "metadata": {
        "id": "dRAjR2Lx0ce9"
      }
    },
    {
      "cell_type": "code",
      "source": [
        "# 회의의 최대 개수를 찾는 함수\n",
        "def best_meeting_time(meeting_time):\n",
        "  count = 0\n",
        "  before_end_time = 0\n",
        "  # 끝나는 시간이 빠른 순서대로 정렬 후 시작 시간이 빠른 순서대로 정렬\n",
        "  meeting_time.sort(key=lambda x: (x[1], x[0]))\n",
        "\n",
        "  for time in meeting_time:\n",
        "    start_time, end_time = time[0], time[1]\n",
        "\n",
        "    if start_time >= before_end_time:\n",
        "      count += 1\n",
        "\n",
        "      before_end_time = end_time\n",
        "\n",
        "  return count\n",
        "\n",
        "if __name__ == \"__main__\":\n",
        "  meeting_time = []\n",
        "  \n",
        "  for _ in range(int(input())):\n",
        "    start_time, end_time = map(int, input().split())\n",
        "    meeting_time.append((start_time, end_time))\n",
        "\n",
        "  print(best_meeting_time(meeting_time))"
      ],
      "metadata": {
        "colab": {
          "base_uri": "https://localhost:8080/"
        },
        "id": "7dElYZfixeFc",
        "outputId": "531b3dd6-d9b1-4fc2-f23b-faa99e3ad062"
      },
      "execution_count": null,
      "outputs": [
        {
          "output_type": "stream",
          "name": "stdout",
          "text": [
            "11\n",
            "1 4\n",
            "3 5\n",
            "0 6\n",
            "5 7\n",
            "3 8\n",
            "5 9\n",
            "6 10\n",
            "8 11\n",
            "8 12\n",
            "2 13\n",
            "12 14\n",
            "4\n"
          ]
        }
      ]
    },
    {
      "cell_type": "markdown",
      "source": [
        "### ★ 문제 9 : 보물\n",
        "- 옛날 옛적에 수학이 항상 큰 골칫거리였던 나라가 있었다. 이 나라의 국왕 노준석 폐하께서는 다음과 같은 문제를 내고 큰 상금을 걸었다.\n",
        "\n",
        "- 길이가 N인 정수 배열 A와 B가 있다. 다음과 같이 함수 S를 정의하자.\n",
        "\n",
        "```\n",
        "S = A[0] × B[0] + ... + A[N-1] × B[N-1]\n",
        "```\n",
        "\n",
        "- S의 값을 가장 작게 만들기 위해 A의 수를 재배열하자. 단, B에 있는 수는 재배열하면 안 된다.\n",
        "\n",
        "- S의 최솟값을 출력하는 프로그램을 작성하시오."
      ],
      "metadata": {
        "id": "x3ftjkhX4-63"
      }
    },
    {
      "cell_type": "markdown",
      "source": [
        "---\n",
        "\n",
        "\n",
        "<br>\n",
        "\n",
        "\n",
        "\n",
        "**입력 조건**\n",
        "- 첫째 줄에 N이 주어진다. 둘째 줄에는 A에 있는 N개의 수가 순서대로 주어지고, 셋째 줄에는 B에 있는 수가 순서대로 주어진다. N은 50보다 작거나 같은 자연수이고, A와 B의 각 원소는 100보다 작거나 같은 음이 아닌 정수이다.\n",
        "\n",
        "<br>\n",
        "\n",
        "**출력 조건**\n",
        "- 첫째 줄에 S의 최솟값을 출력한다.\n",
        "\n",
        "<br>\n",
        "\n",
        "**입력 예시 1**\n",
        "```\n",
        "5\n",
        "1 1 1 6 0\n",
        "2 7 8 3 1\n",
        "```\n",
        "\n",
        "<br>\n",
        "\n",
        "**출력 예시 1**\n",
        "```\n",
        "18\n",
        "```\n",
        "\n",
        "<br>\n",
        "\n",
        "**입력 예시 2**\n",
        "```\n",
        "3\n",
        "1 1 3\n",
        "10 30 20\n",
        "```\n",
        "\n",
        "<br>\n",
        "\n",
        "**출력 예시 2**\n",
        "```\n",
        "80\n",
        "```\n",
        "\n",
        "<br>\n",
        "\n",
        "**입력 예시 3**\n",
        "```\n",
        "9\n",
        "5 15 100 31 39 0 0 3 26\n",
        "11 12 13 2 3 4 5 9 1\n",
        "```\n",
        "\n",
        "<br>\n",
        "\n",
        "**출력 예시 3**\n",
        "```\n",
        "528\n",
        "```"
      ],
      "metadata": {
        "id": "h7SmEl8R5bUE"
      }
    },
    {
      "cell_type": "markdown",
      "source": [
        "#### 접근 1\n",
        "- 최솟값이 나오기 위해서는 a 배열의 가장 작은 값이 b 배열의 가장 큰 값과 곱해지고 이후 순차적으로 진행되어 곱해져야 한다."
      ],
      "metadata": {
        "id": "b6y0PyUR5wU2"
      }
    },
    {
      "cell_type": "code",
      "source": [
        "n = int(input())\n",
        "\n",
        "result = 0\n",
        "\n",
        "a_arr = list(map(int, input().split()))\n",
        "b_arr = list(map(int, input().split()))\n",
        "\n",
        "# a 배열 오름차순으로 정렬\n",
        "a_arr.sort()\n",
        "\n",
        "for i in range(len(b_arr)):\n",
        "  result += a_arr[i] * max(b_arr)\n",
        "  b_arr.remove(max(b_arr))\n",
        "\n",
        "print(result)"
      ],
      "metadata": {
        "id": "VOPEYFuR503I",
        "colab": {
          "base_uri": "https://localhost:8080/"
        },
        "outputId": "66425f56-bb8e-4967-f5de-75396eaf4450"
      },
      "execution_count": null,
      "outputs": [
        {
          "output_type": "stream",
          "name": "stdout",
          "text": [
            "3\n",
            "1 1 3\n",
            "10 30 20\n",
            "80\n"
          ]
        }
      ]
    },
    {
      "cell_type": "code",
      "source": [
        ""
      ],
      "metadata": {
        "id": "sN5J5-OZdm9a"
      },
      "execution_count": null,
      "outputs": []
    }
  ]
}